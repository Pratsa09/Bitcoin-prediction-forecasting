{
  "nbformat": 4,
  "nbformat_minor": 0,
  "metadata": {
    "colab": {
      "name": "Bitcoin_project.ipynb",
      "provenance": [],
      "collapsed_sections": [],
      "authorship_tag": "ABX9TyOys74oSGvaOAdCqM46nsbG",
      "include_colab_link": true
    },
    "kernelspec": {
      "name": "python3",
      "display_name": "Python 3"
    },
    "accelerator": "GPU"
  },
  "cells": [
    {
      "cell_type": "markdown",
      "metadata": {
        "id": "view-in-github",
        "colab_type": "text"
      },
      "source": [
        "<a href=\"https://colab.research.google.com/github/Pratsa09/Bitcoin-prediction-forecasting/blob/master/Bitcoin_project.ipynb\" target=\"_parent\"><img src=\"https://colab.research.google.com/assets/colab-badge.svg\" alt=\"Open In Colab\"/></a>"
      ]
    },
    {
      "cell_type": "code",
      "metadata": {
        "id": "owUl8ti5vhkl"
      },
      "source": [
        "import pandas as pd\n",
        "import numpy as np\n",
        "import matplotlib.pyplot as plt\n",
        "import seaborn as sns"
      ],
      "execution_count": 3,
      "outputs": []
    },
    {
      "cell_type": "code",
      "metadata": {
        "id": "uxeDks_X3RpE",
        "outputId": "fa6612d0-2807-40a9-bb8f-bcd0a6183a9e",
        "colab": {
          "base_uri": "https://localhost:8080/"
        }
      },
      "source": [
        "!pip install-U -q PyDrive\n",
        "!pip3 install --upgrade oauth2client\n",
        "from pydrive.auth import GoogleAuth\n",
        "from pydrive.drive import GoogleDrive\n",
        "from google.colab import auth\n",
        "from oauth2client.client import GoogleCredentials"
      ],
      "execution_count": 4,
      "outputs": [
        {
          "output_type": "stream",
          "text": [
            "ERROR: unknown command \"install-U\" - maybe you meant \"install\"\n",
            "Requirement already up-to-date: oauth2client in /usr/local/lib/python3.6/dist-packages (4.1.3)\n",
            "Requirement already satisfied, skipping upgrade: six>=1.6.1 in /usr/local/lib/python3.6/dist-packages (from oauth2client) (1.15.0)\n",
            "Requirement already satisfied, skipping upgrade: rsa>=3.1.4 in /usr/local/lib/python3.6/dist-packages (from oauth2client) (4.6)\n",
            "Requirement already satisfied, skipping upgrade: pyasn1>=0.1.7 in /usr/local/lib/python3.6/dist-packages (from oauth2client) (0.4.8)\n",
            "Requirement already satisfied, skipping upgrade: httplib2>=0.9.1 in /usr/local/lib/python3.6/dist-packages (from oauth2client) (0.17.4)\n",
            "Requirement already satisfied, skipping upgrade: pyasn1-modules>=0.0.5 in /usr/local/lib/python3.6/dist-packages (from oauth2client) (0.2.8)\n"
          ],
          "name": "stdout"
        }
      ]
    },
    {
      "cell_type": "code",
      "metadata": {
        "id": "s7jnYYEM_7m-"
      },
      "source": [
        "auth.authenticate_user()\n",
        "gauth = GoogleAuth()\n",
        "gauth.credentials = GoogleCredentials.get_application_default()\n",
        "drive = GoogleDrive(gauth)\n"
      ],
      "execution_count": 5,
      "outputs": []
    },
    {
      "cell_type": "code",
      "metadata": {
        "id": "leQIoNbRCKb3"
      },
      "source": [
        "downloaded = drive.CreateFile({'id' : '1CDESvspnp8OmyRjCumWQih-tdoBv4IoB'})"
      ],
      "execution_count": 6,
      "outputs": []
    },
    {
      "cell_type": "code",
      "metadata": {
        "id": "m1xV5CjnDZrs"
      },
      "source": [
        "downloaded.GetContentFile('data for crypto(1).csv')"
      ],
      "execution_count": 7,
      "outputs": []
    },
    {
      "cell_type": "code",
      "metadata": {
        "id": "tphTl7rdDwrB"
      },
      "source": [
        "df=pd.read_csv('data for crypto(1).csv')"
      ],
      "execution_count": 8,
      "outputs": []
    },
    {
      "cell_type": "code",
      "metadata": {
        "id": "bYvfUSCHF1uf",
        "outputId": "964590e1-7658-4013-a2f5-ca450de1d4ce",
        "colab": {
          "base_uri": "https://localhost:8080/",
          "height": 204
        }
      },
      "source": [
        "df.head()"
      ],
      "execution_count": 9,
      "outputs": [
        {
          "output_type": "execute_result",
          "data": {
            "text/html": [
              "<div>\n",
              "<style scoped>\n",
              "    .dataframe tbody tr th:only-of-type {\n",
              "        vertical-align: middle;\n",
              "    }\n",
              "\n",
              "    .dataframe tbody tr th {\n",
              "        vertical-align: top;\n",
              "    }\n",
              "\n",
              "    .dataframe thead th {\n",
              "        text-align: right;\n",
              "    }\n",
              "</style>\n",
              "<table border=\"1\" class=\"dataframe\">\n",
              "  <thead>\n",
              "    <tr style=\"text-align: right;\">\n",
              "      <th></th>\n",
              "      <th>Date</th>\n",
              "      <th>Open</th>\n",
              "      <th>High</th>\n",
              "      <th>Low</th>\n",
              "      <th>Close</th>\n",
              "      <th>Volume BTC</th>\n",
              "      <th>Volume USDT</th>\n",
              "    </tr>\n",
              "  </thead>\n",
              "  <tbody>\n",
              "    <tr>\n",
              "      <th>0</th>\n",
              "      <td>2020-11-08 07-AM</td>\n",
              "      <td>15003.58</td>\n",
              "      <td>15030.50</td>\n",
              "      <td>14966.00</td>\n",
              "      <td>14972.52</td>\n",
              "      <td>725.11</td>\n",
              "      <td>10876751.73</td>\n",
              "    </tr>\n",
              "    <tr>\n",
              "      <th>1</th>\n",
              "      <td>2020-11-08 06-AM</td>\n",
              "      <td>15048.67</td>\n",
              "      <td>15068.34</td>\n",
              "      <td>14968.58</td>\n",
              "      <td>15003.58</td>\n",
              "      <td>1335.08</td>\n",
              "      <td>20039575.90</td>\n",
              "    </tr>\n",
              "    <tr>\n",
              "      <th>2</th>\n",
              "      <td>2020-11-08 05-AM</td>\n",
              "      <td>14985.61</td>\n",
              "      <td>15092.18</td>\n",
              "      <td>14951.00</td>\n",
              "      <td>15048.67</td>\n",
              "      <td>1386.13</td>\n",
              "      <td>20824846.53</td>\n",
              "    </tr>\n",
              "    <tr>\n",
              "      <th>3</th>\n",
              "      <td>2020-11-08 04-AM</td>\n",
              "      <td>14957.41</td>\n",
              "      <td>15029.41</td>\n",
              "      <td>14928.85</td>\n",
              "      <td>14985.61</td>\n",
              "      <td>1671.59</td>\n",
              "      <td>25048538.80</td>\n",
              "    </tr>\n",
              "    <tr>\n",
              "      <th>4</th>\n",
              "      <td>2020-11-08 03-AM</td>\n",
              "      <td>15016.16</td>\n",
              "      <td>15044.96</td>\n",
              "      <td>14954.86</td>\n",
              "      <td>14957.41</td>\n",
              "      <td>1908.56</td>\n",
              "      <td>28622737.37</td>\n",
              "    </tr>\n",
              "  </tbody>\n",
              "</table>\n",
              "</div>"
            ],
            "text/plain": [
              "               Date      Open      High  ...     Close  Volume BTC  Volume USDT\n",
              "0  2020-11-08 07-AM  15003.58  15030.50  ...  14972.52      725.11  10876751.73\n",
              "1  2020-11-08 06-AM  15048.67  15068.34  ...  15003.58     1335.08  20039575.90\n",
              "2  2020-11-08 05-AM  14985.61  15092.18  ...  15048.67     1386.13  20824846.53\n",
              "3  2020-11-08 04-AM  14957.41  15029.41  ...  14985.61     1671.59  25048538.80\n",
              "4  2020-11-08 03-AM  15016.16  15044.96  ...  14957.41     1908.56  28622737.37\n",
              "\n",
              "[5 rows x 7 columns]"
            ]
          },
          "metadata": {
            "tags": []
          },
          "execution_count": 9
        }
      ]
    },
    {
      "cell_type": "code",
      "metadata": {
        "id": "jgBfSXZjF3eP"
      },
      "source": [
        "# Before preprocessiing or visualisation, we should figure out if the Hurst exponent so as to know whether modelling is beneficial or not? "
      ],
      "execution_count": 10,
      "outputs": []
    },
    {
      "cell_type": "code",
      "metadata": {
        "id": "C-Abxjt8PHS1",
        "outputId": "1053744b-769b-4b87-cb9b-fbc62c033af1",
        "colab": {
          "base_uri": "https://localhost:8080/"
        }
      },
      "source": [
        "df.isnull().sum()"
      ],
      "execution_count": 11,
      "outputs": [
        {
          "output_type": "execute_result",
          "data": {
            "text/plain": [
              "Date           0\n",
              "Open           0\n",
              "High           0\n",
              "Low            0\n",
              "Close          0\n",
              "Volume BTC     0\n",
              "Volume USDT    0\n",
              "dtype: int64"
            ]
          },
          "metadata": {
            "tags": []
          },
          "execution_count": 11
        }
      ]
    },
    {
      "cell_type": "code",
      "metadata": {
        "id": "cz3oSbiMPOdg",
        "outputId": "0cda2008-6923-49f2-a6da-bcdb5eacc529",
        "colab": {
          "base_uri": "https://localhost:8080/"
        }
      },
      "source": [
        "!pip install hurst\n",
        "from hurst import compute_Hc,random_walk"
      ],
      "execution_count": 12,
      "outputs": [
        {
          "output_type": "stream",
          "text": [
            "Requirement already satisfied: hurst in /usr/local/lib/python3.6/dist-packages (0.0.5)\n",
            "Requirement already satisfied: numpy>=1.10 in /usr/local/lib/python3.6/dist-packages (from hurst) (1.18.5)\n",
            "Requirement already satisfied: pandas>=0.18 in /usr/local/lib/python3.6/dist-packages (from hurst) (1.1.4)\n",
            "Requirement already satisfied: python-dateutil>=2.7.3 in /usr/local/lib/python3.6/dist-packages (from pandas>=0.18->hurst) (2.8.1)\n",
            "Requirement already satisfied: pytz>=2017.2 in /usr/local/lib/python3.6/dist-packages (from pandas>=0.18->hurst) (2018.9)\n",
            "Requirement already satisfied: six>=1.5 in /usr/local/lib/python3.6/dist-packages (from python-dateutil>=2.7.3->pandas>=0.18->hurst) (1.15.0)\n"
          ],
          "name": "stdout"
        }
      ]
    },
    {
      "cell_type": "code",
      "metadata": {
        "id": "OBLQR-3gPjX6",
        "outputId": "1a2757fc-f2aa-48e0-9409-12b2ce775f2b",
        "colab": {
          "base_uri": "https://localhost:8080/"
        }
      },
      "source": [
        "df1 = df['Close']\n",
        "type(df1)"
      ],
      "execution_count": 13,
      "outputs": [
        {
          "output_type": "execute_result",
          "data": {
            "text/plain": [
              "pandas.core.series.Series"
            ]
          },
          "metadata": {
            "tags": []
          },
          "execution_count": 13
        }
      ]
    },
    {
      "cell_type": "code",
      "metadata": {
        "id": "ACgABn0qQPrK",
        "outputId": "4c903373-bc9d-4e08-921b-927293fea63a",
        "colab": {
          "base_uri": "https://localhost:8080/"
        }
      },
      "source": [
        "H,c,val = compute_Hc(df1)\n",
        "print(\"Hurst Exponent :\" , H)"
      ],
      "execution_count": 14,
      "outputs": [
        {
          "output_type": "stream",
          "text": [
            "Hurst Exponent : 0.5364039658879183\n"
          ],
          "name": "stdout"
        }
      ]
    },
    {
      "cell_type": "code",
      "metadata": {
        "id": "eswMJwJ-QW84",
        "outputId": "b59d3ee1-06e6-48c6-fcea-c66a699c3504",
        "colab": {
          "base_uri": "https://localhost:8080/"
        }
      },
      "source": [
        "df.info()"
      ],
      "execution_count": 15,
      "outputs": [
        {
          "output_type": "stream",
          "text": [
            "<class 'pandas.core.frame.DataFrame'>\n",
            "RangeIndex: 28300 entries, 0 to 28299\n",
            "Data columns (total 7 columns):\n",
            " #   Column       Non-Null Count  Dtype  \n",
            "---  ------       --------------  -----  \n",
            " 0   Date         28300 non-null  object \n",
            " 1   Open         28300 non-null  float64\n",
            " 2   High         28300 non-null  float64\n",
            " 3   Low          28300 non-null  float64\n",
            " 4   Close        28300 non-null  float64\n",
            " 5   Volume BTC   28300 non-null  float64\n",
            " 6   Volume USDT  28300 non-null  float64\n",
            "dtypes: float64(6), object(1)\n",
            "memory usage: 1.5+ MB\n"
          ],
          "name": "stdout"
        }
      ]
    },
    {
      "cell_type": "code",
      "metadata": {
        "id": "xQO-QYAnQp34"
      },
      "source": [
        "#Now since the Hurst exponent is greater than 0.5 it is an anti persistent series,hence modelling could work.\n"
      ],
      "execution_count": 16,
      "outputs": []
    },
    {
      "cell_type": "code",
      "metadata": {
        "id": "96J7-lsGRYw8"
      },
      "source": [
        "# Exploratory Data Analysis (Time series doesn't suppose normality of data therefore we do not need to see normality)"
      ],
      "execution_count": 17,
      "outputs": []
    },
    {
      "cell_type": "code",
      "metadata": {
        "id": "Z5YeEWRDSTR1",
        "outputId": "f79370c7-1a40-4b52-c7f1-33bf2eda6f0a",
        "colab": {
          "base_uri": "https://localhost:8080/",
          "height": 609
        }
      },
      "source": [
        "df1.plot(grid=True, figsize=(15, 10))"
      ],
      "execution_count": 18,
      "outputs": [
        {
          "output_type": "execute_result",
          "data": {
            "text/plain": [
              "<matplotlib.axes._subplots.AxesSubplot at 0x7fa12601d828>"
            ]
          },
          "metadata": {
            "tags": []
          },
          "execution_count": 18
        },
        {
          "output_type": "display_data",
          "data": {
            "image/png": "[encoded data removed]",
            "text/plain": [
              "<Figure size 1080x720 with 1 Axes>"
            ]
          },
          "metadata": {
            "tags": [],
            "needs_background": "light"
          }
        }
      ]
    },
    {
      "cell_type": "code",
      "metadata": {
        "id": "Z3O-ofTxa2Ib",
        "outputId": "d852c060-261e-49ae-fe70-3dd423b4a0e6",
        "colab": {
          "base_uri": "https://localhost:8080/"
        }
      },
      "source": [
        "df['Close'].describe()"
      ],
      "execution_count": 19,
      "outputs": [
        {
          "output_type": "execute_result",
          "data": {
            "text/plain": [
              "count    28300.000000\n",
              "mean      8020.763622\n",
              "std       2794.209425\n",
              "min       2919.000000\n",
              "25%       6336.517500\n",
              "50%       7964.855000\n",
              "75%       9736.025000\n",
              "max      19709.500000\n",
              "Name: Close, dtype: float64"
            ]
          },
          "metadata": {
            "tags": []
          },
          "execution_count": 19
        }
      ]
    },
    {
      "cell_type": "code",
      "metadata": {
        "id": "hXVQBfMacOcy",
        "outputId": "d54a558a-883e-4c17-a288-77ce4602a9e3",
        "colab": {
          "base_uri": "https://localhost:8080/"
        }
      },
      "source": [
        "df1[0:5000].describe()"
      ],
      "execution_count": 20,
      "outputs": [
        {
          "output_type": "execute_result",
          "data": {
            "text/plain": [
              "count     5000.000000\n",
              "mean     10289.308764\n",
              "std       1615.526152\n",
              "min       6573.150000\n",
              "25%       9235.055000\n",
              "50%      10053.180000\n",
              "75%      11381.822500\n",
              "max      15864.510000\n",
              "Name: Close, dtype: float64"
            ]
          },
          "metadata": {
            "tags": []
          },
          "execution_count": 20
        }
      ]
    },
    {
      "cell_type": "code",
      "metadata": {
        "id": "nb8w4kQhfEJ8",
        "outputId": "b5d36ec8-a8ee-4703-dfd3-3928e19c6e27",
        "colab": {
          "base_uri": "https://localhost:8080/"
        }
      },
      "source": [
        "df1[5000:10000].describe()"
      ],
      "execution_count": 21,
      "outputs": [
        {
          "output_type": "execute_result",
          "data": {
            "text/plain": [
              "count     5000.000000\n",
              "mean      8102.764832\n",
              "std       1169.192397\n",
              "min       4130.640000\n",
              "25%       7245.972500\n",
              "50%       8146.615000\n",
              "75%       9012.895000\n",
              "max      10452.970000\n",
              "Name: Close, dtype: float64"
            ]
          },
          "metadata": {
            "tags": []
          },
          "execution_count": 21
        }
      ]
    },
    {
      "cell_type": "code",
      "metadata": {
        "id": "CpKfTEtRgWrn",
        "outputId": "e28c2a5c-c81f-4aad-f929-c77dde5a9034",
        "colab": {
          "base_uri": "https://localhost:8080/"
        }
      },
      "source": [
        "df1[10000:15000].describe()"
      ],
      "execution_count": 22,
      "outputs": [
        {
          "output_type": "execute_result",
          "data": {
            "text/plain": [
              "count     5000.000000\n",
              "mean      7913.052882\n",
              "std       2790.435583\n",
              "min       3700.010000\n",
              "25%       5182.852500\n",
              "50%       8288.775000\n",
              "75%      10333.230000\n",
              "max      13960.760000\n",
              "Name: Close, dtype: float64"
            ]
          },
          "metadata": {
            "tags": []
          },
          "execution_count": 22
        }
      ]
    },
    {
      "cell_type": "code",
      "metadata": {
        "id": "YmztXy3ciQFc",
        "outputId": "4c0cb378-36bb-4d2f-9165-6082dadea3ea",
        "colab": {
          "base_uri": "https://localhost:8080/"
        }
      },
      "source": [
        "df1[15000:20000].describe()"
      ],
      "execution_count": 23,
      "outputs": [
        {
          "output_type": "execute_result",
          "data": {
            "text/plain": [
              "count    5000.000000\n",
              "mean     5287.178744\n",
              "std      1474.396663\n",
              "min      3172.050000\n",
              "25%      3692.015000\n",
              "50%      6260.065000\n",
              "75%      6540.810000\n",
              "max      8266.210000\n",
              "Name: Close, dtype: float64"
            ]
          },
          "metadata": {
            "tags": []
          },
          "execution_count": 23
        }
      ]
    },
    {
      "cell_type": "code",
      "metadata": {
        "id": "hyhM0igZlCkj",
        "outputId": "994ad323-42d3-49fb-d57b-fa5d2dbd433d",
        "colab": {
          "base_uri": "https://localhost:8080/"
        }
      },
      "source": [
        "df1[20000:].describe()"
      ],
      "execution_count": 24,
      "outputs": [
        {
          "output_type": "execute_result",
          "data": {
            "text/plain": [
              "count     8300.000000\n",
              "mean      8316.395708\n",
              "std       3244.539512\n",
              "min       2919.000000\n",
              "25%       6250.727500\n",
              "50%       7780.495000\n",
              "75%       9677.250000\n",
              "max      19709.500000\n",
              "Name: Close, dtype: float64"
            ]
          },
          "metadata": {
            "tags": []
          },
          "execution_count": 24
        }
      ]
    },
    {
      "cell_type": "code",
      "metadata": {
        "id": "Kump8Lqpo1GK"
      },
      "source": [
        "# the mean fluctuates not a lot but it does. Even though they are somewhat in the same ballpark,they still need some transformation because there is clearly a seasonal component to the values but i think logging would improve the situation"
      ],
      "execution_count": 25,
      "outputs": []
    },
    {
      "cell_type": "code",
      "metadata": {
        "id": "7Ug4MsaCpAHL"
      },
      "source": [
        "#AUGMENTED DICKEY FULLER TEST"
      ],
      "execution_count": 26,
      "outputs": []
    },
    {
      "cell_type": "code",
      "metadata": {
        "id": "BixEI9KRsDV_",
        "outputId": "19e947ab-e8c8-45c4-dff1-607323591b24",
        "colab": {
          "base_uri": "https://localhost:8080/"
        }
      },
      "source": [
        "!pip install statsmodels\n",
        "from statsmodels.tsa.stattools import adfuller\n"
      ],
      "execution_count": 27,
      "outputs": [
        {
          "output_type": "stream",
          "text": [
            "Requirement already satisfied: statsmodels in /usr/local/lib/python3.6/dist-packages (0.11.1)\n",
            "Requirement already satisfied: pandas>=0.21 in /usr/local/lib/python3.6/dist-packages (from statsmodels) (1.1.4)\n",
            "Requirement already satisfied: scipy>=1.0 in /usr/local/lib/python3.6/dist-packages (from statsmodels) (1.4.1)\n",
            "Requirement already satisfied: numpy>=1.14 in /usr/local/lib/python3.6/dist-packages (from statsmodels) (1.18.5)\n",
            "Requirement already satisfied: patsy>=0.5 in /usr/local/lib/python3.6/dist-packages (from statsmodels) (0.5.1)\n",
            "Requirement already satisfied: python-dateutil>=2.7.3 in /usr/local/lib/python3.6/dist-packages (from pandas>=0.21->statsmodels) (2.8.1)\n",
            "Requirement already satisfied: pytz>=2017.2 in /usr/local/lib/python3.6/dist-packages (from pandas>=0.21->statsmodels) (2018.9)\n",
            "Requirement already satisfied: six in /usr/local/lib/python3.6/dist-packages (from patsy>=0.5->statsmodels) (1.15.0)\n"
          ],
          "name": "stdout"
        }
      ]
    },
    {
      "cell_type": "code",
      "metadata": {
        "id": "C3T8DDpJsJtO",
        "outputId": "42e34fdf-f944-437f-a8dc-ebba0f24f1b4",
        "colab": {
          "base_uri": "https://localhost:8080/"
        }
      },
      "source": [
        " #Perform Dickey-Fuller test:\n",
        "print('Results of Dickey-Fuller Test:')\n",
        "dftest = adfuller(df1, autolag='AIC')\n",
        "dfoutput = pd.Series(dftest[0:4], index=['Test Statistic','p-value','#Lags Used','Number of Observations Used'])\n",
        "for key,value in dftest[4].items():\n",
        "  dfoutput['Critical Value (%s)'%key] = value\n",
        "  print (dfoutput)\n",
        "if dfoutput['Test Statistic'] < dfoutput['Critical Value (5%)']:\n",
        "  print('Series is stationary')\n",
        "else:\n",
        "    print('Series is not stationary ')\n",
        "\n",
        "\n",
        "\n"
      ],
      "execution_count": 28,
      "outputs": [
        {
          "output_type": "stream",
          "text": [
            "Results of Dickey-Fuller Test:\n",
            "Test Statistic                    -3.045285\n",
            "p-value                            0.030876\n",
            "#Lags Used                        50.000000\n",
            "Number of Observations Used    28249.000000\n",
            "Critical Value (1%)               -3.430582\n",
            "dtype: float64\n",
            "Test Statistic                    -3.045285\n",
            "p-value                            0.030876\n",
            "#Lags Used                        50.000000\n",
            "Number of Observations Used    28249.000000\n",
            "Critical Value (1%)               -3.430582\n",
            "Critical Value (5%)               -2.861642\n",
            "dtype: float64\n",
            "Test Statistic                    -3.045285\n",
            "p-value                            0.030876\n",
            "#Lags Used                        50.000000\n",
            "Number of Observations Used    28249.000000\n",
            "Critical Value (1%)               -3.430582\n",
            "Critical Value (5%)               -2.861642\n",
            "Critical Value (10%)              -2.566824\n",
            "dtype: float64\n",
            "Series is stationary\n"
          ],
          "name": "stdout"
        }
      ]
    },
    {
      "cell_type": "code",
      "metadata": {
        "id": "pX2OeROGuGq7"
      },
      "source": [
        "# By the ADF test, the series is stationary"
      ],
      "execution_count": 29,
      "outputs": []
    },
    {
      "cell_type": "code",
      "metadata": {
        "id": "CjtPHGR_w5wI"
      },
      "source": [
        "# KPSS TEST"
      ],
      "execution_count": 30,
      "outputs": []
    },
    {
      "cell_type": "code",
      "metadata": {
        "id": "jk18wNDex5th",
        "outputId": "2e069d09-a407-498b-ff38-122f1d1c5d2d",
        "colab": {
          "base_uri": "https://localhost:8080/"
        }
      },
      "source": [
        "from statsmodels.tsa.stattools import kpss\n",
        "#define KPSS\n",
        "def kpss_test(timeseries):\n",
        "    print ('Results of KPSS Test:')\n",
        "    kpsstest = kpss(timeseries, regression='ct')\n",
        "    kpss_output = pd.Series(kpsstest[0:3], index=['Test Statistic','p-value','Lags Used'])\n",
        "    for key,value in kpsstest[3].items():\n",
        "      kpss_output['Critical Value (%s)'%key] = value\n",
        "      print (kpss_output)\n",
        "\n",
        "kpss_test(df1)"
      ],
      "execution_count": 31,
      "outputs": [
        {
          "output_type": "stream",
          "text": [
            "Results of KPSS Test:\n",
            "Test Statistic           3.837178\n",
            "p-value                  0.010000\n",
            "Lags Used               50.000000\n",
            "Critical Value (10%)     0.119000\n",
            "dtype: float64\n",
            "Test Statistic           3.837178\n",
            "p-value                  0.010000\n",
            "Lags Used               50.000000\n",
            "Critical Value (10%)     0.119000\n",
            "Critical Value (5%)      0.146000\n",
            "dtype: float64\n",
            "Test Statistic            3.837178\n",
            "p-value                   0.010000\n",
            "Lags Used                50.000000\n",
            "Critical Value (10%)      0.119000\n",
            "Critical Value (5%)       0.146000\n",
            "Critical Value (2.5%)     0.176000\n",
            "dtype: float64\n",
            "Test Statistic            3.837178\n",
            "p-value                   0.010000\n",
            "Lags Used                50.000000\n",
            "Critical Value (10%)      0.119000\n",
            "Critical Value (5%)       0.146000\n",
            "Critical Value (2.5%)     0.176000\n",
            "Critical Value (1%)       0.216000\n",
            "dtype: float64\n"
          ],
          "name": "stdout"
        },
        {
          "output_type": "stream",
          "text": [
            "/usr/local/lib/python3.6/dist-packages/statsmodels/tsa/stattools.py:1661: FutureWarning: The behavior of using lags=None will change in the next release. Currently lags=None is the same as lags='legacy', and so a sample-size lag length is used. After the next release, the default will change to be the same as lags='auto' which uses an automatic lag length selection method. To silence this warning, either use 'auto' or 'legacy'\n",
            "  warn(msg, FutureWarning)\n",
            "/usr/local/lib/python3.6/dist-packages/statsmodels/tsa/stattools.py:1685: InterpolationWarning: p-value is smaller than the indicated p-value\n",
            "  warn(\"p-value is smaller than the indicated p-value\", InterpolationWarning)\n"
          ],
          "name": "stderr"
        }
      ]
    },
    {
      "cell_type": "code",
      "metadata": {
        "id": "GNTSjszaytIg"
      },
      "source": [
        "# by KPSS,the series is non-stationary. Therefore,we have to change something in the data."
      ],
      "execution_count": 32,
      "outputs": []
    },
    {
      "cell_type": "code",
      "metadata": {
        "id": "faBZVsUc3ZcZ"
      },
      "source": [
        "# KPSS = not stationary and ADF = stationary -> difference stationary, use differencing to make series stationary\n",
        " "
      ],
      "execution_count": 33,
      "outputs": []
    },
    {
      "cell_type": "code",
      "metadata": {
        "id": "qMo_DD0n7ILj",
        "outputId": "0d4116cd-71b0-462e-a44a-38bad04c1ed8",
        "colab": {
          "base_uri": "https://localhost:8080/"
        }
      },
      "source": [
        "stats, p, lags, critical_values = kpss(df1 , regression = 'c')\n",
        "print(f'Test Statistics: {stats}')\n",
        "print(f'p-value : {p}')\n",
        "print(f'Critical Values : {critical_values}')\n",
        "\n",
        "if p <0.05:\n",
        "  print('Series is not stationary' )\n",
        "else: \n",
        "  print('Series is stationary')"
      ],
      "execution_count": 34,
      "outputs": [
        {
          "output_type": "stream",
          "text": [
            "Test Statistics: 7.476516169304273\n",
            "p-value : 0.01\n",
            "Critical Values : {'10%': 0.347, '5%': 0.463, '2.5%': 0.574, '1%': 0.739}\n",
            "Series is not stationary\n"
          ],
          "name": "stdout"
        },
        {
          "output_type": "stream",
          "text": [
            "/usr/local/lib/python3.6/dist-packages/statsmodels/tsa/stattools.py:1661: FutureWarning: The behavior of using lags=None will change in the next release. Currently lags=None is the same as lags='legacy', and so a sample-size lag length is used. After the next release, the default will change to be the same as lags='auto' which uses an automatic lag length selection method. To silence this warning, either use 'auto' or 'legacy'\n",
            "  warn(msg, FutureWarning)\n",
            "/usr/local/lib/python3.6/dist-packages/statsmodels/tsa/stattools.py:1685: InterpolationWarning: p-value is smaller than the indicated p-value\n",
            "  warn(\"p-value is smaller than the indicated p-value\", InterpolationWarning)\n"
          ],
          "name": "stderr"
        }
      ]
    },
    {
      "cell_type": "code",
      "metadata": {
        "id": "Vxg1d14GSRd-"
      },
      "source": [
        "# we have to do difference stationary to make the series stationary"
      ],
      "execution_count": 35,
      "outputs": []
    },
    {
      "cell_type": "code",
      "metadata": {
        "id": "YnE47eUvS3M9"
      },
      "source": [
        "# differencing and plotting"
      ],
      "execution_count": 36,
      "outputs": []
    },
    {
      "cell_type": "code",
      "metadata": {
        "id": "N7yD8h9uTQxS"
      },
      "source": [
        "df_non_index = df.copy()"
      ],
      "execution_count": 37,
      "outputs": []
    },
    {
      "cell_type": "code",
      "metadata": {
        "id": "w3yZTo0_ToeY",
        "outputId": "eea7b6c0-15d3-4171-db78-3f5edb7852a0",
        "colab": {
          "base_uri": "https://localhost:8080/",
          "height": 282
        }
      },
      "source": [
        "df_diff = df_non_index['Close'] - df_non_index['Close'].shift(1)\n",
        "df_diff.dropna().plot()"
      ],
      "execution_count": 38,
      "outputs": [
        {
          "output_type": "execute_result",
          "data": {
            "text/plain": [
              "<matplotlib.axes._subplots.AxesSubplot at 0x7fa123aaf470>"
            ]
          },
          "metadata": {
            "tags": []
          },
          "execution_count": 38
        },
        {
          "output_type": "display_data",
          "data": {
            "image/png": "[encoded data removed]",
            "text/plain": [
              "<Figure size 432x288 with 1 Axes>"
            ]
          },
          "metadata": {
            "tags": [],
            "needs_background": "light"
          }
        }
      ]
    },
    {
      "cell_type": "code",
      "metadata": {
        "id": "ypGN4PelUFuA",
        "outputId": "b657fe6a-c5ec-4d6b-9ba7-be2fc1fa6b95",
        "colab": {
          "base_uri": "https://localhost:8080/"
        }
      },
      "source": [
        "stats, p, lags, critical_values = kpss(df_diff.dropna() , regression = 'c')\n",
        "print(f'Test Statistics: {stats}')\n",
        "print(f'p-value : {p}')\n",
        "print(f'Critical Values : {critical_values}')\n",
        "\n",
        "if p < 0.05:\n",
        "  print('Series is not stationary' )\n",
        "else: \n",
        "  print('Series is stationary')"
      ],
      "execution_count": 39,
      "outputs": [
        {
          "output_type": "stream",
          "text": [
            "Test Statistics: 0.08354536662447988\n",
            "p-value : 0.1\n",
            "Critical Values : {'10%': 0.347, '5%': 0.463, '2.5%': 0.574, '1%': 0.739}\n",
            "Series is stationary\n"
          ],
          "name": "stdout"
        },
        {
          "output_type": "stream",
          "text": [
            "/usr/local/lib/python3.6/dist-packages/statsmodels/tsa/stattools.py:1661: FutureWarning: The behavior of using lags=None will change in the next release. Currently lags=None is the same as lags='legacy', and so a sample-size lag length is used. After the next release, the default will change to be the same as lags='auto' which uses an automatic lag length selection method. To silence this warning, either use 'auto' or 'legacy'\n",
            "  warn(msg, FutureWarning)\n",
            "/usr/local/lib/python3.6/dist-packages/statsmodels/tsa/stattools.py:1687: InterpolationWarning: p-value is greater than the indicated p-value\n",
            "  warn(\"p-value is greater than the indicated p-value\", InterpolationWarning)\n"
          ],
          "name": "stderr"
        }
      ]
    },
    {
      "cell_type": "code",
      "metadata": {
        "id": "u7IJ-5uoUX7h"
      },
      "source": [
        "# the series is now stationary. Time series models can be applied appropriately now."
      ],
      "execution_count": 40,
      "outputs": []
    },
    {
      "cell_type": "code",
      "metadata": {
        "id": "W3kZDEyXUla8"
      },
      "source": [
        "# AUTO-ARIMA,ARCH/GARCH,RNN(LSTM)"
      ],
      "execution_count": 41,
      "outputs": []
    },
    {
      "cell_type": "code",
      "metadata": {
        "id": "qhk1MRjRV2qv"
      },
      "source": [
        "# for the parameters of ARIMA we need to first look at ACF and PACF plots. The d value here is 1 since we differenced it once to make it stationary."
      ],
      "execution_count": 42,
      "outputs": []
    },
    {
      "cell_type": "code",
      "metadata": {
        "id": "IsUZJvAb7QPP",
        "outputId": "833ff3ed-21ae-4c10-8e53-2bfe5d1d73ee",
        "colab": {
          "base_uri": "https://localhost:8080/",
          "height": 281
        }
      },
      "source": [
        "from matplotlib import pyplot\n",
        "from statsmodels.graphics.tsaplots import plot_acf\n",
        "plot_acf(df_diff.dropna())\n",
        "pyplot.show()\n",
        "# does this eries have a long term trend?\n"
      ],
      "execution_count": 43,
      "outputs": [
        {
          "output_type": "display_data",
          "data": {
            "image/png": "[encoded data removed]",
            "text/plain": [
              "<Figure size 432x288 with 1 Axes>"
            ]
          },
          "metadata": {
            "tags": [],
            "needs_background": "light"
          }
        }
      ]
    },
    {
      "cell_type": "code",
      "metadata": {
        "id": "fWthhfJ-8By8",
        "outputId": "bd6ab3b2-7ef9-4377-96d5-66c292e5c73f",
        "colab": {
          "base_uri": "https://localhost:8080/",
          "height": 281
        }
      },
      "source": [
        "from statsmodels.graphics.tsaplots import plot_pacf\n",
        "plot_pacf(df_diff.dropna())\n",
        "pyplot.show()\n"
      ],
      "execution_count": 44,
      "outputs": [
        {
          "output_type": "display_data",
          "data": {
            "image/png": "[encoded data removed]",
            "text/plain": [
              "<Figure size 432x288 with 1 Axes>"
            ]
          },
          "metadata": {
            "tags": [],
            "needs_background": "light"
          }
        }
      ]
    },
    {
      "cell_type": "code",
      "metadata": {
        "id": "NeP0dkTV82V_",
        "outputId": "67cb1da3-b6e1-4320-a751-1460b9d7910c",
        "colab": {
          "base_uri": "https://localhost:8080/"
        }
      },
      "source": [
        "!pip3 install git+https://github.com/statsmodels/statsmodels.git\n",
        "\n",
        "!pip install pmdarima\n"
      ],
      "execution_count": 45,
      "outputs": [
        {
          "output_type": "stream",
          "text": [
            "Collecting git+https://github.com/statsmodels/statsmodels.git\n",
            "  Cloning https://github.com/statsmodels/statsmodels.git to /tmp/pip-req-build-dkvqcfsy\n",
            "  Running command git clone -q https://github.com/statsmodels/statsmodels.git /tmp/pip-req-build-dkvqcfsy\n",
            "  Installing build dependencies ... \u001b[?25l\u001b[?25hdone\n",
            "  Getting requirements to build wheel ... \u001b[?25l\u001b[?25hdone\n",
            "    Preparing wheel metadata ... \u001b[?25l\u001b[?25hdone\n",
            "Requirement already satisfied: patsy>=0.5 in /usr/local/lib/python3.6/dist-packages (from statsmodels==0.13.0.dev0+115.g443c18f6d) (0.5.1)\n",
            "Requirement already satisfied: scipy>=1.1 in /usr/local/lib/python3.6/dist-packages (from statsmodels==0.13.0.dev0+115.g443c18f6d) (1.4.1)\n",
            "Requirement already satisfied: pandas>=0.21 in /usr/local/lib/python3.6/dist-packages (from statsmodels==0.13.0.dev0+115.g443c18f6d) (1.1.4)\n",
            "Requirement already satisfied: numpy>=1.15 in /usr/local/lib/python3.6/dist-packages (from statsmodels==0.13.0.dev0+115.g443c18f6d) (1.18.5)\n",
            "Requirement already satisfied: six in /usr/local/lib/python3.6/dist-packages (from patsy>=0.5->statsmodels==0.13.0.dev0+115.g443c18f6d) (1.15.0)\n",
            "Requirement already satisfied: pytz>=2017.2 in /usr/local/lib/python3.6/dist-packages (from pandas>=0.21->statsmodels==0.13.0.dev0+115.g443c18f6d) (2018.9)\n",
            "Requirement already satisfied: python-dateutil>=2.7.3 in /usr/local/lib/python3.6/dist-packages (from pandas>=0.21->statsmodels==0.13.0.dev0+115.g443c18f6d) (2.8.1)\n",
            "Building wheels for collected packages: statsmodels\n",
            "  Building wheel for statsmodels (PEP 517) ... \u001b[?25l\u001b[?25hcanceled\n",
            "\u001b[31mERROR: Operation cancelled by user\u001b[0m\n",
            "Requirement already satisfied: pmdarima in /usr/local/lib/python3.6/dist-packages (1.7.1)\n",
            "Requirement already satisfied: scikit-learn>=0.22 in /usr/local/lib/python3.6/dist-packages (from pmdarima) (0.22.2.post1)\n",
            "Requirement already satisfied: scipy>=1.3.2 in /usr/local/lib/python3.6/dist-packages (from pmdarima) (1.4.1)\n",
            "Requirement already satisfied: numpy>=1.17.3 in /usr/local/lib/python3.6/dist-packages (from pmdarima) (1.18.5)\n",
            "Requirement already satisfied: Cython<0.29.18,>=0.29 in /usr/local/lib/python3.6/dist-packages (from pmdarima) (0.29.17)\n",
            "Requirement already satisfied: joblib>=0.11 in /usr/local/lib/python3.6/dist-packages (from pmdarima) (0.17.0)\n",
            "Requirement already satisfied: pandas>=0.19 in /usr/local/lib/python3.6/dist-packages (from pmdarima) (1.1.4)\n",
            "Requirement already satisfied: urllib3 in /usr/local/lib/python3.6/dist-packages (from pmdarima) (1.24.3)\n",
            "Requirement already satisfied: setuptools<50.0.0 in /usr/local/lib/python3.6/dist-packages (from pmdarima) (49.6.0)\n",
            "Requirement already satisfied: statsmodels<0.12,>=0.11 in /usr/local/lib/python3.6/dist-packages (from pmdarima) (0.11.1)\n",
            "Requirement already satisfied: python-dateutil>=2.7.3 in /usr/local/lib/python3.6/dist-packages (from pandas>=0.19->pmdarima) (2.8.1)\n",
            "Requirement already satisfied: pytz>=2017.2 in /usr/local/lib/python3.6/dist-packages (from pandas>=0.19->pmdarima) (2018.9)\n",
            "Requirement already satisfied: patsy>=0.5 in /usr/local/lib/python3.6/dist-packages (from statsmodels<0.12,>=0.11->pmdarima) (0.5.1)\n",
            "Requirement already satisfied: six>=1.5 in /usr/local/lib/python3.6/dist-packages (from python-dateutil>=2.7.3->pandas>=0.19->pmdarima) (1.15.0)\n"
          ],
          "name": "stdout"
        }
      ]
    },
    {
      "cell_type": "code",
      "metadata": {
        "id": "_aVYkWiFBtgG"
      },
      "source": [
        "import pmdarima as pm"
      ],
      "execution_count": 46,
      "outputs": []
    },
    {
      "cell_type": "code",
      "metadata": {
        "id": "shwwzn5GCMdk",
        "outputId": "a371e190-d979-45e3-ddea-8eaa8be63061",
        "colab": {
          "base_uri": "https://localhost:8080/"
        }
      },
      "source": [
        "model = pm.auto_arima(df_diff.dropna(),start_p = 1 ,d=1 , start_q = 1, seasonal = False, test= 'adf',error_action = 'ignore',suppress_warnings = True,stepwise = True,trace =True)"
      ],
      "execution_count": 47,
      "outputs": [
        {
          "output_type": "stream",
          "text": [
            "Performing stepwise search to minimize aic\n",
            " ARIMA(1,1,1)(0,0,0)[0] intercept   : AIC=inf, Time=19.70 sec\n",
            " ARIMA(0,1,0)(0,0,0)[0] intercept   : AIC=356894.064, Time=0.82 sec\n",
            " ARIMA(1,1,0)(0,0,0)[0] intercept   : AIC=348265.034, Time=1.88 sec\n",
            " ARIMA(0,1,1)(0,0,0)[0] intercept   : AIC=inf, Time=12.24 sec\n",
            " ARIMA(0,1,0)(0,0,0)[0]             : AIC=356892.064, Time=0.31 sec\n",
            " ARIMA(2,1,0)(0,0,0)[0] intercept   : AIC=344573.735, Time=2.56 sec\n",
            " ARIMA(3,1,0)(0,0,0)[0] intercept   : AIC=342424.089, Time=3.09 sec\n",
            " ARIMA(4,1,0)(0,0,0)[0] intercept   : AIC=341010.520, Time=4.04 sec\n",
            " ARIMA(5,1,0)(0,0,0)[0] intercept   : AIC=340301.343, Time=4.91 sec\n",
            " ARIMA(5,1,1)(0,0,0)[0] intercept   : AIC=inf, Time=74.98 sec\n",
            " ARIMA(4,1,1)(0,0,0)[0] intercept   : AIC=inf, Time=46.74 sec\n",
            " ARIMA(5,1,0)(0,0,0)[0]             : AIC=340299.343, Time=1.98 sec\n",
            " ARIMA(4,1,0)(0,0,0)[0]             : AIC=341008.520, Time=1.60 sec\n",
            " ARIMA(5,1,1)(0,0,0)[0]             : AIC=inf, Time=20.98 sec\n",
            " ARIMA(4,1,1)(0,0,0)[0]             : AIC=inf, Time=15.55 sec\n",
            "\n",
            "Best model:  ARIMA(5,1,0)(0,0,0)[0]          \n",
            "Total fit time: 211.404 seconds\n"
          ],
          "name": "stdout"
        }
      ]
    },
    {
      "cell_type": "code",
      "metadata": {
        "id": "tA1rA0hFgGyd",
        "outputId": "09e15db0-76bb-496a-850d-ea55e755ba58",
        "colab": {
          "base_uri": "https://localhost:8080/",
          "height": 486
        }
      },
      "source": [
        "model.summary()"
      ],
      "execution_count": 48,
      "outputs": [
        {
          "output_type": "execute_result",
          "data": {
            "text/html": [
              "<table class=\"simpletable\">\n",
              "<caption>SARIMAX Results</caption>\n",
              "<tr>\n",
              "  <th>Dep. Variable:</th>           <td>y</td>        <th>  No. Observations:  </th>    <td>28299</td>   \n",
              "</tr>\n",
              "<tr>\n",
              "  <th>Model:</th>           <td>SARIMAX(5, 1, 0)</td> <th>  Log Likelihood     </th> <td>-170143.672</td>\n",
              "</tr>\n",
              "<tr>\n",
              "  <th>Date:</th>            <td>Tue, 10 Nov 2020</td> <th>  AIC                </th> <td>340299.343</td> \n",
              "</tr>\n",
              "<tr>\n",
              "  <th>Time:</th>                <td>12:56:18</td>     <th>  BIC                </th> <td>340348.846</td> \n",
              "</tr>\n",
              "<tr>\n",
              "  <th>Sample:</th>                  <td>0</td>        <th>  HQIC               </th> <td>340315.271</td> \n",
              "</tr>\n",
              "<tr>\n",
              "  <th></th>                     <td> - 28299</td>     <th>                     </th>      <td> </td>     \n",
              "</tr>\n",
              "<tr>\n",
              "  <th>Covariance Type:</th>        <td>opg</td>       <th>                     </th>      <td> </td>     \n",
              "</tr>\n",
              "</table>\n",
              "<table class=\"simpletable\">\n",
              "<tr>\n",
              "     <td></td>       <th>coef</th>     <th>std err</th>      <th>z</th>      <th>P>|z|</th>  <th>[0.025</th>    <th>0.975]</th>  \n",
              "</tr>\n",
              "<tr>\n",
              "  <th>ar.L1</th>  <td>   -0.8813</td> <td>    0.002</td> <td> -456.678</td> <td> 0.000</td> <td>   -0.885</td> <td>   -0.878</td>\n",
              "</tr>\n",
              "<tr>\n",
              "  <th>ar.L2</th>  <td>   -0.7257</td> <td>    0.002</td> <td> -292.701</td> <td> 0.000</td> <td>   -0.731</td> <td>   -0.721</td>\n",
              "</tr>\n",
              "<tr>\n",
              "  <th>ar.L3</th>  <td>   -0.5476</td> <td>    0.003</td> <td> -199.264</td> <td> 0.000</td> <td>   -0.553</td> <td>   -0.542</td>\n",
              "</tr>\n",
              "<tr>\n",
              "  <th>ar.L4</th>  <td>   -0.3542</td> <td>    0.002</td> <td> -141.982</td> <td> 0.000</td> <td>   -0.359</td> <td>   -0.349</td>\n",
              "</tr>\n",
              "<tr>\n",
              "  <th>ar.L5</th>  <td>   -0.1575</td> <td>    0.002</td> <td>  -76.020</td> <td> 0.000</td> <td>   -0.162</td> <td>   -0.153</td>\n",
              "</tr>\n",
              "<tr>\n",
              "  <th>sigma2</th> <td> 9772.7368</td> <td>   19.626</td> <td>  497.957</td> <td> 0.000</td> <td> 9734.271</td> <td> 9811.202</td>\n",
              "</tr>\n",
              "</table>\n",
              "<table class=\"simpletable\">\n",
              "<tr>\n",
              "  <th>Ljung-Box (Q):</th>          <td>2280.04</td> <th>  Jarque-Bera (JB):  </th> <td>1400361.00</td>\n",
              "</tr>\n",
              "<tr>\n",
              "  <th>Prob(Q):</th>                 <td>0.00</td>   <th>  Prob(JB):          </th>    <td>0.00</td>   \n",
              "</tr>\n",
              "<tr>\n",
              "  <th>Heteroskedasticity (H):</th>  <td>4.72</td>   <th>  Skew:              </th>    <td>1.08</td>   \n",
              "</tr>\n",
              "<tr>\n",
              "  <th>Prob(H) (two-sided):</th>     <td>0.00</td>   <th>  Kurtosis:          </th>    <td>37.40</td>  \n",
              "</tr>\n",
              "</table><br/><br/>Warnings:<br/>[1] Covariance matrix calculated using the outer product of gradients (complex-step)."
            ],
            "text/plain": [
              "<class 'statsmodels.iolib.summary.Summary'>\n",
              "\"\"\"\n",
              "                               SARIMAX Results                                \n",
              "==============================================================================\n",
              "Dep. Variable:                      y   No. Observations:                28299\n",
              "Model:               SARIMAX(5, 1, 0)   Log Likelihood             -170143.672\n",
              "Date:                Tue, 10 Nov 2020   AIC                         340299.343\n",
              "Time:                        12:56:18   BIC                         340348.846\n",
              "Sample:                             0   HQIC                        340315.271\n",
              "                              - 28299                                         \n",
              "Covariance Type:                  opg                                         \n",
              "==============================================================================\n",
              "                 coef    std err          z      P>|z|      [0.025      0.975]\n",
              "------------------------------------------------------------------------------\n",
              "ar.L1         -0.8813      0.002   -456.678      0.000      -0.885      -0.878\n",
              "ar.L2         -0.7257      0.002   -292.701      0.000      -0.731      -0.721\n",
              "ar.L3         -0.5476      0.003   -199.264      0.000      -0.553      -0.542\n",
              "ar.L4         -0.3542      0.002   -141.982      0.000      -0.359      -0.349\n",
              "ar.L5         -0.1575      0.002    -76.020      0.000      -0.162      -0.153\n",
              "sigma2      9772.7368     19.626    497.957      0.000    9734.271    9811.202\n",
              "===================================================================================\n",
              "Ljung-Box (Q):                     2280.04   Jarque-Bera (JB):           1400361.00\n",
              "Prob(Q):                              0.00   Prob(JB):                         0.00\n",
              "Heteroskedasticity (H):               4.72   Skew:                             1.08\n",
              "Prob(H) (two-sided):                  0.00   Kurtosis:                        37.40\n",
              "===================================================================================\n",
              "\n",
              "Warnings:\n",
              "[1] Covariance matrix calculated using the outer product of gradients (complex-step).\n",
              "\"\"\""
            ]
          },
          "metadata": {
            "tags": []
          },
          "execution_count": 48
        }
      ]
    },
    {
      "cell_type": "code",
      "metadata": {
        "id": "2coXEXxUhEb8",
        "outputId": "f3497b43-b273-4dfc-e5f5-e039289cad3d",
        "colab": {
          "base_uri": "https://localhost:8080/"
        }
      },
      "source": [
        "# ARCH/GARCH model\n",
        "df_diff[0:5000].dropna().var()"
      ],
      "execution_count": 49,
      "outputs": [
        {
          "output_type": "execute_result",
          "data": {
            "text/plain": [
              "3383.1058068764323"
            ]
          },
          "metadata": {
            "tags": []
          },
          "execution_count": 49
        }
      ]
    },
    {
      "cell_type": "code",
      "metadata": {
        "id": "q-i4pnWwhPih",
        "outputId": "8d447bd3-aed3-4e91-aa35-25cc6c1ad8d9",
        "colab": {
          "base_uri": "https://localhost:8080/"
        }
      },
      "source": [
        "df_diff[5000:10000].dropna().var()"
      ],
      "execution_count": 50,
      "outputs": [
        {
          "output_type": "execute_result",
          "data": {
            "text/plain": [
              "4082.620625266655"
            ]
          },
          "metadata": {
            "tags": []
          },
          "execution_count": 50
        }
      ]
    },
    {
      "cell_type": "code",
      "metadata": {
        "id": "oik_nnr5kV3w",
        "outputId": "7ae8b803-6348-49f0-87a5-0f9c9d15f048",
        "colab": {
          "base_uri": "https://localhost:8080/"
        }
      },
      "source": [
        "df_diff[10000:15000].dropna().var()"
      ],
      "execution_count": 51,
      "outputs": [
        {
          "output_type": "execute_result",
          "data": {
            "text/plain": [
              "5708.889097320873"
            ]
          },
          "metadata": {
            "tags": []
          },
          "execution_count": 51
        }
      ]
    },
    {
      "cell_type": "code",
      "metadata": {
        "id": "a4tZco4hkfAl",
        "outputId": "d8201605-6669-4e2d-fb5a-7c42d29702c9",
        "colab": {
          "base_uri": "https://localhost:8080/"
        }
      },
      "source": [
        "df_diff[15000:20000].dropna().var()"
      ],
      "execution_count": 52,
      "outputs": [
        {
          "output_type": "execute_result",
          "data": {
            "text/plain": [
              "1320.9382199613715"
            ]
          },
          "metadata": {
            "tags": []
          },
          "execution_count": 52
        }
      ]
    },
    {
      "cell_type": "code",
      "metadata": {
        "id": "0xkt_J0Dkopg",
        "outputId": "a96ef0fe-e5a9-448d-92c5-8207a5c35790",
        "colab": {
          "base_uri": "https://localhost:8080/"
        }
      },
      "source": [
        "df_diff[20000:].dropna().var()"
      ],
      "execution_count": 53,
      "outputs": [
        {
          "output_type": "execute_result",
          "data": {
            "text/plain": [
              "19351.929731345317"
            ]
          },
          "metadata": {
            "tags": []
          },
          "execution_count": 53
        }
      ]
    },
    {
      "cell_type": "code",
      "metadata": {
        "id": "QxY_PwGxkw3c"
      },
      "source": [
        "#Let us first see the change in variance to apply the models , GARCH models presuppose stationarity except for variance or volatility.you basically model the variance. Cannot predict using that"
      ],
      "execution_count": 54,
      "outputs": []
    },
    {
      "cell_type": "code",
      "metadata": {
        "id": "9zXkyKWHqPnl"
      },
      "source": [
        "from random import gauss\n",
        "from arch import arch_model"
      ],
      "execution_count": 57,
      "outputs": []
    },
    {
      "cell_type": "code",
      "metadata": {
        "id": "8vafjSborCMZ",
        "outputId": "783702af-f32f-4878-ec3e-666b5bd6e401",
        "colab": {
          "base_uri": "https://localhost:8080/"
        }
      },
      "source": [
        "!pip install arch"
      ],
      "execution_count": 56,
      "outputs": [
        {
          "output_type": "stream",
          "text": [
            "Collecting arch\n",
            "\u001b[?25l  Downloading https://files.pythonhosted.org/packages/7f/5c/ef80e96f2cdc6c2d293b7e4688888a4428963c966fbb0c749c9078e68bb6/arch-4.15-cp36-cp36m-manylinux1_x86_64.whl (790kB)\n",
            "\r\u001b[K     |▍                               | 10kB 21.4MB/s eta 0:00:01\r\u001b[K     |▉                               | 20kB 3.5MB/s eta 0:00:01\r\u001b[K     |█▎                              | 30kB 4.2MB/s eta 0:00:01\r\u001b[K     |█▋                              | 40kB 4.5MB/s eta 0:00:01\r\u001b[K     |██                              | 51kB 4.1MB/s eta 0:00:01\r\u001b[K     |██▌                             | 61kB 4.4MB/s eta 0:00:01\r\u001b[K     |███                             | 71kB 5.0MB/s eta 0:00:01\r\u001b[K     |███▎                            | 81kB 5.4MB/s eta 0:00:01\r\u001b[K     |███▊                            | 92kB 5.7MB/s eta 0:00:01\r\u001b[K     |████▏                           | 102kB 5.4MB/s eta 0:00:01\r\u001b[K     |████▋                           | 112kB 5.4MB/s eta 0:00:01\r\u001b[K     |█████                           | 122kB 5.4MB/s eta 0:00:01\r\u001b[K     |█████▍                          | 133kB 5.4MB/s eta 0:00:01\r\u001b[K     |█████▉                          | 143kB 5.4MB/s eta 0:00:01\r\u001b[K     |██████▏                         | 153kB 5.4MB/s eta 0:00:01\r\u001b[K     |██████▋                         | 163kB 5.4MB/s eta 0:00:01\r\u001b[K     |███████                         | 174kB 5.4MB/s eta 0:00:01\r\u001b[K     |███████▌                        | 184kB 5.4MB/s eta 0:00:01\r\u001b[K     |███████▉                        | 194kB 5.4MB/s eta 0:00:01\r\u001b[K     |████████▎                       | 204kB 5.4MB/s eta 0:00:01\r\u001b[K     |████████▊                       | 215kB 5.4MB/s eta 0:00:01\r\u001b[K     |█████████▏                      | 225kB 5.4MB/s eta 0:00:01\r\u001b[K     |█████████▌                      | 235kB 5.4MB/s eta 0:00:01\r\u001b[K     |██████████                      | 245kB 5.4MB/s eta 0:00:01\r\u001b[K     |██████████▍                     | 256kB 5.4MB/s eta 0:00:01\r\u001b[K     |██████████▉                     | 266kB 5.4MB/s eta 0:00:01\r\u001b[K     |███████████▏                    | 276kB 5.4MB/s eta 0:00:01\r\u001b[K     |███████████▋                    | 286kB 5.4MB/s eta 0:00:01\r\u001b[K     |████████████                    | 296kB 5.4MB/s eta 0:00:01\r\u001b[K     |████████████▍                   | 307kB 5.4MB/s eta 0:00:01\r\u001b[K     |████████████▉                   | 317kB 5.4MB/s eta 0:00:01\r\u001b[K     |█████████████▎                  | 327kB 5.4MB/s eta 0:00:01\r\u001b[K     |█████████████▊                  | 337kB 5.4MB/s eta 0:00:01\r\u001b[K     |██████████████                  | 348kB 5.4MB/s eta 0:00:01\r\u001b[K     |██████████████▌                 | 358kB 5.4MB/s eta 0:00:01\r\u001b[K     |███████████████                 | 368kB 5.4MB/s eta 0:00:01\r\u001b[K     |███████████████▍                | 378kB 5.4MB/s eta 0:00:01\r\u001b[K     |███████████████▊                | 389kB 5.4MB/s eta 0:00:01\r\u001b[K     |████████████████▏               | 399kB 5.4MB/s eta 0:00:01\r\u001b[K     |████████████████▋               | 409kB 5.4MB/s eta 0:00:01\r\u001b[K     |█████████████████               | 419kB 5.4MB/s eta 0:00:01\r\u001b[K     |█████████████████▍              | 430kB 5.4MB/s eta 0:00:01\r\u001b[K     |█████████████████▉              | 440kB 5.4MB/s eta 0:00:01\r\u001b[K     |██████████████████▎             | 450kB 5.4MB/s eta 0:00:01\r\u001b[K     |██████████████████▋             | 460kB 5.4MB/s eta 0:00:01\r\u001b[K     |███████████████████             | 471kB 5.4MB/s eta 0:00:01\r\u001b[K     |███████████████████▌            | 481kB 5.4MB/s eta 0:00:01\r\u001b[K     |████████████████████            | 491kB 5.4MB/s eta 0:00:01\r\u001b[K     |████████████████████▎           | 501kB 5.4MB/s eta 0:00:01\r\u001b[K     |████████████████████▊           | 512kB 5.4MB/s eta 0:00:01\r\u001b[K     |█████████████████████▏          | 522kB 5.4MB/s eta 0:00:01\r\u001b[K     |█████████████████████▋          | 532kB 5.4MB/s eta 0:00:01\r\u001b[K     |██████████████████████          | 542kB 5.4MB/s eta 0:00:01\r\u001b[K     |██████████████████████▍         | 552kB 5.4MB/s eta 0:00:01\r\u001b[K     |██████████████████████▉         | 563kB 5.4MB/s eta 0:00:01\r\u001b[K     |███████████████████████▎        | 573kB 5.4MB/s eta 0:00:01\r\u001b[K     |███████████████████████▋        | 583kB 5.4MB/s eta 0:00:01\r\u001b[K     |████████████████████████        | 593kB 5.4MB/s eta 0:00:01\r\u001b[K     |████████████████████████▌       | 604kB 5.4MB/s eta 0:00:01\r\u001b[K     |████████████████████████▉       | 614kB 5.4MB/s eta 0:00:01\r\u001b[K     |█████████████████████████▎      | 624kB 5.4MB/s eta 0:00:01\r\u001b[K     |█████████████████████████▊      | 634kB 5.4MB/s eta 0:00:01\r\u001b[K     |██████████████████████████▏     | 645kB 5.4MB/s eta 0:00:01\r\u001b[K     |██████████████████████████▌     | 655kB 5.4MB/s eta 0:00:01\r\u001b[K     |███████████████████████████     | 665kB 5.4MB/s eta 0:00:01\r\u001b[K     |███████████████████████████▍    | 675kB 5.4MB/s eta 0:00:01\r\u001b[K     |███████████████████████████▉    | 686kB 5.4MB/s eta 0:00:01\r\u001b[K     |████████████████████████████▏   | 696kB 5.4MB/s eta 0:00:01\r\u001b[K     |████████████████████████████▋   | 706kB 5.4MB/s eta 0:00:01\r\u001b[K     |█████████████████████████████   | 716kB 5.4MB/s eta 0:00:01\r\u001b[K     |█████████████████████████████▍  | 727kB 5.4MB/s eta 0:00:01\r\u001b[K     |█████████████████████████████▉  | 737kB 5.4MB/s eta 0:00:01\r\u001b[K     |██████████████████████████████▎ | 747kB 5.4MB/s eta 0:00:01\r\u001b[K     |██████████████████████████████▊ | 757kB 5.4MB/s eta 0:00:01\r\u001b[K     |███████████████████████████████ | 768kB 5.4MB/s eta 0:00:01\r\u001b[K     |███████████████████████████████▌| 778kB 5.4MB/s eta 0:00:01\r\u001b[K     |████████████████████████████████| 788kB 5.4MB/s eta 0:00:01\r\u001b[K     |████████████████████████████████| 798kB 5.4MB/s \n",
            "\u001b[?25hRequirement already satisfied: statsmodels>=0.9 in /usr/local/lib/python3.6/dist-packages (from arch) (0.11.1)\n",
            "Requirement already satisfied: cython>=0.29.14 in /usr/local/lib/python3.6/dist-packages (from arch) (0.29.17)\n",
            "Requirement already satisfied: pandas>=0.23 in /usr/local/lib/python3.6/dist-packages (from arch) (1.1.4)\n",
            "Collecting property-cached>=1.6.3\n",
            "  Downloading https://files.pythonhosted.org/packages/5c/6c/94d8e520b20a2502e508e1c558f338061cf409cbee78fd6a3a5c6ae812bd/property_cached-1.6.4-py2.py3-none-any.whl\n",
            "Requirement already satisfied: numpy>=1.14 in /usr/local/lib/python3.6/dist-packages (from arch) (1.18.5)\n",
            "Requirement already satisfied: scipy>=1.0.1 in /usr/local/lib/python3.6/dist-packages (from arch) (1.4.1)\n",
            "Requirement already satisfied: patsy>=0.5 in /usr/local/lib/python3.6/dist-packages (from statsmodels>=0.9->arch) (0.5.1)\n",
            "Requirement already satisfied: python-dateutil>=2.7.3 in /usr/local/lib/python3.6/dist-packages (from pandas>=0.23->arch) (2.8.1)\n",
            "Requirement already satisfied: pytz>=2017.2 in /usr/local/lib/python3.6/dist-packages (from pandas>=0.23->arch) (2018.9)\n",
            "Requirement already satisfied: six in /usr/local/lib/python3.6/dist-packages (from patsy>=0.5->statsmodels>=0.9->arch) (1.15.0)\n",
            "Installing collected packages: property-cached, arch\n",
            "Successfully installed arch-4.15 property-cached-1.6.4\n"
          ],
          "name": "stdout"
        }
      ]
    },
    {
      "cell_type": "code",
      "metadata": {
        "id": "9t5iy5BoxwBW"
      },
      "source": [
        "# GARCH(5,1,0)"
      ],
      "execution_count": 58,
      "outputs": []
    },
    {
      "cell_type": "code",
      "metadata": {
        "id": "_ab8BS7OyHCa"
      },
      "source": [
        "prices = 100*df_diff.dropna().pct_change().dropna()"
      ],
      "execution_count": 59,
      "outputs": []
    },
    {
      "cell_type": "code",
      "metadata": {
        "id": "RamrRQzB3A3k",
        "outputId": "8b031045-2238-4238-cb99-dc471943d84b",
        "colab": {
          "base_uri": "https://localhost:8080/",
          "height": 293
        }
      },
      "source": [
        "plt.figure(figsize=(10,4))\n",
        "plt.plot(prices)"
      ],
      "execution_count": 60,
      "outputs": [
        {
          "output_type": "execute_result",
          "data": {
            "text/plain": [
              "[<matplotlib.lines.Line2D at 0x7fa11ccea1d0>]"
            ]
          },
          "metadata": {
            "tags": []
          },
          "execution_count": 60
        },
        {
          "output_type": "display_data",
          "data": {
            "image/png": "[encoded data removed]",
            "text/plain": [
              "<Figure size 720x288 with 1 Axes>"
            ]
          },
          "metadata": {
            "tags": [],
            "needs_background": "light"
          }
        }
      ]
    },
    {
      "cell_type": "code",
      "metadata": {
        "id": "VNM-zLBF3LHO"
      },
      "source": [
        "# This shows that the prices do not really have high volatility for us to model GARCH specifically. "
      ],
      "execution_count": 61,
      "outputs": []
    },
    {
      "cell_type": "code",
      "metadata": {
        "id": "netWoYmR3TsT"
      },
      "source": [
        "# Univariate LSTM models"
      ],
      "execution_count": 62,
      "outputs": []
    },
    {
      "cell_type": "code",
      "metadata": {
        "id": "tHEm-RmI6d4d"
      },
      "source": [
        "# Bi-directional LSTM : Preprocessing the data first(A type of RNN)"
      ],
      "execution_count": 63,
      "outputs": []
    },
    {
      "cell_type": "code",
      "metadata": {
        "id": "7r5byQSoCDsr"
      },
      "source": [
        "# i am creating a copy of the original differenced series for safety purposes"
      ],
      "execution_count": 64,
      "outputs": []
    },
    {
      "cell_type": "code",
      "metadata": {
        "id": "J6SH5kOVD5Hz"
      },
      "source": [
        "df_diff1 = df_diff.dropna().copy()"
      ],
      "execution_count": 65,
      "outputs": []
    },
    {
      "cell_type": "code",
      "metadata": {
        "id": "NlpglYpiEDzB",
        "outputId": "5a4386ef-abec-42e7-9ce2-2b765c6f1bef",
        "colab": {
          "base_uri": "https://localhost:8080/"
        }
      },
      "source": [
        "df_diff1 # for the tensorflow model"
      ],
      "execution_count": 66,
      "outputs": [
        {
          "output_type": "execute_result",
          "data": {
            "text/plain": [
              "1        31.06\n",
              "2        45.09\n",
              "3       -63.06\n",
              "4       -28.20\n",
              "5        58.75\n",
              "         ...  \n",
              "28295   -83.31\n",
              "28296   -10.70\n",
              "28297   -25.64\n",
              "28298    -9.03\n",
              "28299    -6.49\n",
              "Name: Close, Length: 28299, dtype: float64"
            ]
          },
          "metadata": {
            "tags": []
          },
          "execution_count": 66
        }
      ]
    },
    {
      "cell_type": "code",
      "metadata": {
        "id": "n-XtMtYPEGSL"
      },
      "source": [
        "import tensorflow as tf"
      ],
      "execution_count": 67,
      "outputs": []
    },
    {
      "cell_type": "code",
      "metadata": {
        "id": "ZCQMVBjGEahY"
      },
      "source": [
        "from tensorflow import keras\n",
        "from sklearn.preprocessing import MinMaxScaler\n",
        "from tensorflow.keras.layers import Bidirectional, Dropout, Activation, Dense, LSTM\n",
        "from tensorflow.python.keras.layers import CuDNNLSTM\n",
        "from tensorflow.keras.models import Sequential\n"
      ],
      "execution_count": 69,
      "outputs": []
    },
    {
      "cell_type": "code",
      "metadata": {
        "id": "6UyMkY8FEmK1"
      },
      "source": [
        "from numpy import array"
      ],
      "execution_count": 70,
      "outputs": []
    },
    {
      "cell_type": "code",
      "metadata": {
        "id": "1biEubVMnsn0"
      },
      "source": [
        "# VANILLA LSTM"
      ],
      "execution_count": 110,
      "outputs": []
    },
    {
      "cell_type": "code",
      "metadata": {
        "id": "gIJpzv1r19qo"
      },
      "source": [
        "# VANILLA LSTM TRY3"
      ],
      "execution_count": 161,
      "outputs": []
    },
    {
      "cell_type": "code",
      "metadata": {
        "id": "pJZ3MOF37YAW",
        "outputId": "6da70900-4d1f-4232-c7b3-c6a96f4af570",
        "colab": {
          "base_uri": "https://localhost:8080/"
        }
      },
      "source": [
        "# creating a dataframe\n",
        "df_diff1"
      ],
      "execution_count": 167,
      "outputs": [
        {
          "output_type": "execute_result",
          "data": {
            "text/plain": [
              "1        31.06\n",
              "2        45.09\n",
              "3       -63.06\n",
              "4       -28.20\n",
              "5        58.75\n",
              "         ...  \n",
              "28295   -83.31\n",
              "28296   -10.70\n",
              "28297   -25.64\n",
              "28298    -9.03\n",
              "28299    -6.49\n",
              "Name: Close, Length: 28299, dtype: float64"
            ]
          },
          "metadata": {
            "tags": []
          },
          "execution_count": 167
        }
      ]
    },
    {
      "cell_type": "code",
      "metadata": {
        "id": "rAli7OMtEaN_"
      },
      "source": [
        "new_df = pd.DataFrame(index=range(0,len(df)),columns=['Close'])\n",
        "for i in range(0,len(df_diff1)):\n",
        "  new_df['Close'] = df_diff1"
      ],
      "execution_count": 174,
      "outputs": []
    },
    {
      "cell_type": "code",
      "metadata": {
        "id": "ZH0r38CPJ6IZ"
      },
      "source": [
        "new_df = new_df.dropna()"
      ],
      "execution_count": 176,
      "outputs": []
    },
    {
      "cell_type": "code",
      "metadata": {
        "id": "iw-i-pw1J_nZ",
        "outputId": "6ae414bc-b534-4e87-aa92-69c275f3818d",
        "colab": {
          "base_uri": "https://localhost:8080/",
          "height": 419
        }
      },
      "source": [
        "new_df"
      ],
      "execution_count": 177,
      "outputs": [
        {
          "output_type": "execute_result",
          "data": {
            "text/html": [
              "<div>\n",
              "<style scoped>\n",
              "    .dataframe tbody tr th:only-of-type {\n",
              "        vertical-align: middle;\n",
              "    }\n",
              "\n",
              "    .dataframe tbody tr th {\n",
              "        vertical-align: top;\n",
              "    }\n",
              "\n",
              "    .dataframe thead th {\n",
              "        text-align: right;\n",
              "    }\n",
              "</style>\n",
              "<table border=\"1\" class=\"dataframe\">\n",
              "  <thead>\n",
              "    <tr style=\"text-align: right;\">\n",
              "      <th></th>\n",
              "      <th>Close</th>\n",
              "    </tr>\n",
              "  </thead>\n",
              "  <tbody>\n",
              "    <tr>\n",
              "      <th>1</th>\n",
              "      <td>31.06</td>\n",
              "    </tr>\n",
              "    <tr>\n",
              "      <th>2</th>\n",
              "      <td>45.09</td>\n",
              "    </tr>\n",
              "    <tr>\n",
              "      <th>3</th>\n",
              "      <td>-63.06</td>\n",
              "    </tr>\n",
              "    <tr>\n",
              "      <th>4</th>\n",
              "      <td>-28.20</td>\n",
              "    </tr>\n",
              "    <tr>\n",
              "      <th>5</th>\n",
              "      <td>58.75</td>\n",
              "    </tr>\n",
              "    <tr>\n",
              "      <th>...</th>\n",
              "      <td>...</td>\n",
              "    </tr>\n",
              "    <tr>\n",
              "      <th>28295</th>\n",
              "      <td>-83.31</td>\n",
              "    </tr>\n",
              "    <tr>\n",
              "      <th>28296</th>\n",
              "      <td>-10.70</td>\n",
              "    </tr>\n",
              "    <tr>\n",
              "      <th>28297</th>\n",
              "      <td>-25.64</td>\n",
              "    </tr>\n",
              "    <tr>\n",
              "      <th>28298</th>\n",
              "      <td>-9.03</td>\n",
              "    </tr>\n",
              "    <tr>\n",
              "      <th>28299</th>\n",
              "      <td>-6.49</td>\n",
              "    </tr>\n",
              "  </tbody>\n",
              "</table>\n",
              "<p>28299 rows × 1 columns</p>\n",
              "</div>"
            ],
            "text/plain": [
              "       Close\n",
              "1      31.06\n",
              "2      45.09\n",
              "3     -63.06\n",
              "4     -28.20\n",
              "5      58.75\n",
              "...      ...\n",
              "28295 -83.31\n",
              "28296 -10.70\n",
              "28297 -25.64\n",
              "28298  -9.03\n",
              "28299  -6.49\n",
              "\n",
              "[28299 rows x 1 columns]"
            ]
          },
          "metadata": {
            "tags": []
          },
          "execution_count": 177
        }
      ]
    },
    {
      "cell_type": "code",
      "metadata": {
        "id": "oc_bX7xDLAE2"
      },
      "source": [
        "# creating training and testing datasets\n",
        "dataset = new_df.values"
      ],
      "execution_count": 178,
      "outputs": []
    },
    {
      "cell_type": "code",
      "metadata": {
        "id": "1Q6VuHWfLn9m",
        "outputId": "cd7dc6c3-a461-480c-a428-2d61fa8eac25",
        "colab": {
          "base_uri": "https://localhost:8080/"
        }
      },
      "source": [
        "dataset"
      ],
      "execution_count": 179,
      "outputs": [
        {
          "output_type": "execute_result",
          "data": {
            "text/plain": [
              "array([[ 31.06],\n",
              "       [ 45.09],\n",
              "       [-63.06],\n",
              "       ...,\n",
              "       [-25.64],\n",
              "       [ -9.03],\n",
              "       [ -6.49]])"
            ]
          },
          "metadata": {
            "tags": []
          },
          "execution_count": 179
        }
      ]
    },
    {
      "cell_type": "code",
      "metadata": {
        "id": "ty3ilzU-LpTa"
      },
      "source": [
        "train = dataset[0:18960,:]\n",
        "test = dataset[18960:,:]"
      ],
      "execution_count": 180,
      "outputs": []
    },
    {
      "cell_type": "code",
      "metadata": {
        "id": "aZi2D6wEMMkt"
      },
      "source": [
        "#converting dataset into x_train and y_train\n",
        "scaler = MinMaxScaler(feature_range=(0, 1))\n",
        "scaled_data = scaler.fit_transform(dataset)"
      ],
      "execution_count": 181,
      "outputs": []
    },
    {
      "cell_type": "code",
      "metadata": {
        "id": "7DmUjQBtMUED"
      },
      "source": [
        "x_train, y_train = [], []\n",
        "for i in range(60,len(train)):\n",
        "    x_train.append(scaled_data[i-60:i,0])\n",
        "    y_train.append(scaled_data[i,0])\n",
        "x_train, y_train = np.array(x_train), np.array(y_train)\n"
      ],
      "execution_count": 182,
      "outputs": []
    },
    {
      "cell_type": "code",
      "metadata": {
        "id": "e7Rpf_r5Mqmb"
      },
      "source": [
        "x_train = np.reshape(x_train, (x_train.shape[0],x_train.shape[1],1))"
      ],
      "execution_count": 183,
      "outputs": []
    },
    {
      "cell_type": "code",
      "metadata": {
        "id": "8qhXXYhfMrw8",
        "outputId": "f7989a7d-c348-4a01-b83e-da996d3e29c4",
        "colab": {
          "base_uri": "https://localhost:8080/"
        }
      },
      "source": [
        "# create and fit the LSTM network\n",
        "model = Sequential()\n",
        "model.add(LSTM(units=50, return_sequences=True, input_shape=(x_train.shape[1],1)))\n",
        "model.add(LSTM(units=50))\n",
        "model.add(Dense(1))\n",
        "model.compile(loss='mean_squared_error', optimizer='adam')\n",
        "model.fit(x_train, y_train, epochs=10, batch_size=1, verbose=2)\n"
      ],
      "execution_count": 185,
      "outputs": [
        {
          "output_type": "stream",
          "text": [
            "Epoch 1/10\n",
            "18900/18900 - 115s - loss: 6.5578e-04\n",
            "Epoch 2/10\n",
            "18900/18900 - 114s - loss: 5.4695e-04\n",
            "Epoch 3/10\n",
            "18900/18900 - 113s - loss: 5.3429e-04\n",
            "Epoch 4/10\n",
            "18900/18900 - 113s - loss: 5.3186e-04\n",
            "Epoch 5/10\n",
            "18900/18900 - 113s - loss: 5.2653e-04\n",
            "Epoch 6/10\n",
            "18900/18900 - 113s - loss: 5.2496e-04\n",
            "Epoch 7/10\n",
            "18900/18900 - 112s - loss: 5.2317e-04\n",
            "Epoch 8/10\n",
            "18900/18900 - 112s - loss: 5.2114e-04\n",
            "Epoch 9/10\n",
            "18900/18900 - 112s - loss: 5.2078e-04\n",
            "Epoch 10/10\n",
            "18900/18900 - 112s - loss: 5.1929e-04\n"
          ],
          "name": "stdout"
        },
        {
          "output_type": "execute_result",
          "data": {
            "text/plain": [
              "<tensorflow.python.keras.callbacks.History at 0x7fa08195efd0>"
            ]
          },
          "metadata": {
            "tags": []
          },
          "execution_count": 185
        }
      ]
    },
    {
      "cell_type": "code",
      "metadata": {
        "id": "ItqOt403M3nz"
      },
      "source": [
        "#predicting values, using past 60 from the train data\n",
        "inputs = new_df[len(new_df) - len(test) - 60:].values\n",
        "inputs = inputs.reshape(-1,1)\n",
        "inputs  = scaler.transform(inputs)"
      ],
      "execution_count": 187,
      "outputs": []
    },
    {
      "cell_type": "code",
      "metadata": {
        "id": "Z67OqMsKNf-q"
      },
      "source": [
        "X_test = []\n",
        "for i in range(60,inputs.shape[0]):\n",
        "  X_test.append(inputs[i-60:i,0])\n",
        "X_test = np.array(X_test)"
      ],
      "execution_count": 188,
      "outputs": []
    },
    {
      "cell_type": "code",
      "metadata": {
        "id": "4l0-t8sKNrV5"
      },
      "source": [
        "X_test = np.reshape(X_test, (X_test.shape[0],X_test.shape[1],1))\n",
        "closing_price = model.predict(X_test)\n",
        "closing_price = scaler.inverse_transform(closing_price)\n"
      ],
      "execution_count": 189,
      "outputs": []
    },
    {
      "cell_type": "code",
      "metadata": {
        "id": "soFGGAZ3OCGY",
        "outputId": "4f82761e-7c2d-4fc9-890f-193617d55cfc",
        "colab": {
          "base_uri": "https://localhost:8080/"
        }
      },
      "source": [
        "rms=np.sqrt(np.mean(np.power((test-closing_price),2)))\n",
        "rms"
      ],
      "execution_count": 190,
      "outputs": [
        {
          "output_type": "execute_result",
          "data": {
            "text/plain": [
              "131.8852212716085"
            ]
          },
          "metadata": {
            "tags": []
          },
          "execution_count": 190
        }
      ]
    },
    {
      "cell_type": "code",
      "metadata": {
        "id": "9NbyHmJeOGQm"
      },
      "source": [
        ""
      ],
      "execution_count": 197,
      "outputs": []
    },
    {
      "cell_type": "code",
      "metadata": {
        "id": "UYH_2DaiOre7"
      },
      "source": [
        ""
      ],
      "execution_count": 197,
      "outputs": []
    },
    {
      "cell_type": "code",
      "metadata": {
        "id": "jJ-AmZ47O3aS"
      },
      "source": [
        ""
      ],
      "execution_count": null,
      "outputs": []
    }
  ]
}